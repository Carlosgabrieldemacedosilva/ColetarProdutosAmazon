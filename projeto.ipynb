{
 "cells": [
  {
   "cell_type": "code",
   "execution_count": 67,
   "metadata": {},
   "outputs": [],
   "source": [
    "from selenium import webdriver\n",
    "from selenium.webdriver.common.by import By\n",
    "from selenium.webdriver.support.wait import WebDriverWait\n",
    "from selenium.webdriver.support import expected_conditions as EC\n",
    "from dataclasses import dataclass\n",
    "from dataclasses import asdict"
   ]
  },
  {
   "cell_type": "code",
   "execution_count": 94,
   "metadata": {},
   "outputs": [],
   "source": [
    "import csv\n",
    "from dataclasses import fields"
   ]
  },
  {
   "cell_type": "code",
   "execution_count": 5,
   "metadata": {},
   "outputs": [],
   "source": [
    "driver = webdriver.Chrome()"
   ]
  },
  {
   "cell_type": "code",
   "execution_count": 6,
   "metadata": {},
   "outputs": [],
   "source": [
    "driver.refresh()\n",
    "driver.get('https://www.amazon.com.br/')"
   ]
  },
  {
   "cell_type": "code",
   "execution_count": 13,
   "metadata": {},
   "outputs": [],
   "source": [
    "pesquisa = driver.find_element(By.XPATH, '//*[@id=\"twotabsearchtextbox\"]')"
   ]
  },
  {
   "cell_type": "code",
   "execution_count": 14,
   "metadata": {},
   "outputs": [],
   "source": [
    "pesquisa.send_keys('notebooks')"
   ]
  },
  {
   "cell_type": "code",
   "execution_count": 15,
   "metadata": {},
   "outputs": [],
   "source": [
    "pesquisa.submit()"
   ]
  },
  {
   "cell_type": "code",
   "execution_count": 21,
   "metadata": {},
   "outputs": [],
   "source": [
    "resultados = driver.find_elements(By.CSS_SELECTOR, '.s-main-slot.a-spacing-base')"
   ]
  },
  {
   "cell_type": "code",
   "execution_count": 88,
   "metadata": {},
   "outputs": [],
   "source": [
    "@dataclass\n",
    "class notebooks:\n",
    "    foto: str\n",
    "    descricao: str\n",
    "    estrelas: str\n",
    "    avaliacoes: str\n",
    "    valor : str\n",
    "\n",
    "dados_excel = []"
   ]
  },
  {
   "cell_type": "code",
   "execution_count": 89,
   "metadata": {},
   "outputs": [],
   "source": [
    "resultados = driver.find_elements(By.CSS_SELECTOR, '.s-main-slot .a-spacing-base')\n",
    "for resultado in resultados:\n",
    "    try:\n",
    "        img = resultado.find_element(By.TAG_NAME , 'img').get_property('src')\n",
    "        descricao = resultado.find_element(By.TAG_NAME, 'h2').get_property('innerText')\n",
    "        classificacoes = resultado.find_elements(By.CSS_SELECTOR, '.a-size-small > span')\n",
    "        estrelas, avaliacoes = classificacoes[0].get_property('textContent'), classificacoes[1].get_property('textContent')\n",
    "        valor = resultado.find_element(By.CLASS_NAME, 'a-price-whole').get_property('innerText')\n",
    "\n",
    "        dados = notebooks(\n",
    "            foto = img,\n",
    "            descricao = descricao,\n",
    "            estrelas = estrelas,\n",
    "            avaliacoes = avaliacoes,\n",
    "            valor = valor\n",
    "        )\n",
    "\n",
    "        dados_excel.append(dados)\n",
    "\n",
    "    except:\n",
    "        pass\n"
   ]
  },
  {
   "cell_type": "code",
   "execution_count": 92,
   "metadata": {},
   "outputs": [
    {
     "data": {
      "text/plain": [
       "[notebooks(foto='https://m.media-amazon.com/images/I/41r7C8Vw+aL._AC_UL320_.jpg', descricao=\"Galaxy Book4 Pro Intel® Core™ Ultra 7 155H, Windows 11 Home, 16GB, 512GB SSD, 14'' Full HD AMOLED, Touchscreen, 1.23 kg\", estrelas='5,0 de 5 estrelas ', avaliacoes='3  ', valor='6.374\\n,'),\n",
       " notebooks(foto='https://m.media-amazon.com/images/I/613PZt698DL._AC_UL320_.jpg', descricao='Notebook Acer ANV15-51-50KD i5 8 512 RTX 2050 Linux', estrelas='4,1 de 5 estrelas ', avaliacoes='28  ', valor='3.829\\n,'),\n",
       " notebooks(foto='https://m.media-amazon.com/images/I/51QY3y8PY2L._AC_UL320_.jpg', descricao='Notebook Vaio FE15 15.6 FHD i3-1115G4 8GB SSD 256GB Linux Debian 10 Cinza - VJFE55F11X-B0121H', estrelas='4,2 de 5 estrelas ', avaliacoes='11  ', valor='2.199\\n,'),\n",
       " notebooks(foto='https://m.media-amazon.com/images/I/51qYgtqNzYL._AC_UL320_.jpg', descricao='Notebook Lenovo Ultrafino IdeaPad 1 i3-1215U 8GB 256GB SSD Windows Home 15.6\" 82VY000SBR Cloud Grey', estrelas='4,6 de 5 estrelas ', avaliacoes='80  ', valor='2.547\\n,'),\n",
       " notebooks(foto='https://m.media-amazon.com/images/I/61yvzxtefZL._AC_UL320_.jpg', descricao='Notebook Intel Celeron 4GB DDR4 SSD 128GB Tela 14.1\" Full HD Windows 11 Professional Prata HQ Joy NHJ-W11H-CE1', estrelas='3,9 de 5 estrelas ', avaliacoes='49  ', valor='1.497\\n,'),\n",
       " notebooks(foto='https://m.media-amazon.com/images/I/51gEkEbXrHL._AC_UL320_.jpg', descricao='Notebook Acer Aspire 5 A515-57-55B8 Intel Core i5 12º Geração 8GB RAM 256GB SSD (UHD) 15.6\" LED Full HD TN 60hz Cinza aço Windows 11H', estrelas='4,8 de 5 estrelas ', avaliacoes='618  ', valor='2.751\\n,'),\n",
       " notebooks(foto='https://m.media-amazon.com/images/I/51f+8DD2VbL._AC_UL320_.jpg', descricao='Notebook Acer Aspire5 A515-45-R36L AMD Ryzen7 5700U 12GB RAM (AMD Radeon) 512GB SSD 15.6” LED IPS Full HD Prata Teclado numérico Independente Linux Gutta', estrelas='4,7 de 5 estrelas ', avaliacoes='384  ', valor='2.834\\n,'),\n",
       " notebooks(foto='https://m.media-amazon.com/images/I/71TK+vh6JIL._AC_UL320_.jpg', descricao='Notebook ASUS VivoBook Go 15, AMD RYZEN 5 7520U, 8GB, 256GB SSD, KeepOS, Tela 15,6\" FHD, Mixed Black - E1504FA-NJ731', estrelas='4,5 de 5 estrelas ', avaliacoes='59  ', valor='2.391\\n,'),\n",
       " notebooks(foto='https://m.media-amazon.com/images/I/71TK+vh6JIL._AC_UL320_.jpg', descricao='Notebook ASUS VivoBook Go 15, AMD RYZEN 5 7520U, 8GB, 512GB SSD, KeepOS, Tela 15,6\" FHD, Mixed Black - E1504FA-NJ732', estrelas='4,4 de 5 estrelas ', avaliacoes='25  ', valor='2.416\\n,'),\n",
       " notebooks(foto='https://m.media-amazon.com/images/I/71bqk4b3SBL._AC_UL320_.jpg', descricao='Notebook Positivo Vision C15 Lumina Bar Celeron 4GB 128GB eMMC, Windows 11 Home, Tela 15\" HD Antirreflexo, Tecla Link - Cinza -2 ANOS DE GARANTIA', estrelas='4,5 de 5 estrelas ', avaliacoes='447  ', valor='1.349\\n,'),\n",
       " notebooks(foto='https://m.media-amazon.com/images/I/51Ri6f37FRL._AC_UL320_.jpg', descricao='Notebook Lenovo Ideapad 1i i5-1235U 8GB 512GB SSD 15.6\" W11', estrelas='4,8 de 5 estrelas ', avaliacoes='727  ', valor='2.815\\n,'),\n",
       " notebooks(foto='https://m.media-amazon.com/images/I/51VxwPPv38L._AC_UL320_.jpg', descricao='Notebook ASUS VivoBook Go, 15 AMD RYZEN 5 7520U, 8 GB, 256 GB SSD, W11 Home Tela 15,6\" FHD, Mixed Black - E1504FA-NJ825W', estrelas='5,0 de 5 estrelas ', avaliacoes='4  ', valor='2.899\\n,'),\n",
       " notebooks(foto='https://m.media-amazon.com/images/I/71UOx5ZIoAL._AC_UL320_.jpg', descricao='Notebook ASUS X515MA, Celeron Dual Core, SSD 128GB, 4GB, WIN 11 Home, 15,60\" Led-Backlit Anti-Glare, Slate Gray - X515MA-BR933WS', estrelas='4,7 de 5 estrelas ', avaliacoes='423  ', valor='1.875\\n,'),\n",
       " notebooks(foto='https://m.media-amazon.com/images/I/51lGW2nP9qL._AC_UL320_.jpg', descricao='Notebook Samsung Galaxy Book4 i3 8GB 256 W11H NP750XGJ-KG5BR', estrelas='4,8 de 5 estrelas ', avaliacoes='60  ', valor='2.849\\n,'),\n",
       " notebooks(foto='https://m.media-amazon.com/images/I/81IVG4BF9vL._AC_UL320_.jpg', descricao='Notebook HP Intel Core i3-1215U 8GB 256GB SSD 15,6” - Windows 11', estrelas='4,7 de 5 estrelas ', avaliacoes='199  ', valor='2.339\\n,'),\n",
       " notebooks(foto='https://m.media-amazon.com/images/I/51lGW2nP9qL._AC_UL320_.jpg', descricao='Notebook Samsung Galaxy Book4 i5 8GB 512GB W11H NP750XGJ-KG3BR', estrelas='4,6 de 5 estrelas ', avaliacoes='65  ', valor='3.149\\n,'),\n",
       " notebooks(foto='https://m.media-amazon.com/images/I/51Q72hF0G2L._AC_UL320_.jpg', descricao='Notebook ASUS E510MA, Intel Celeron Dual Core, 4GB, 128GB EMMC, Windows 11 Home, Tela de 15,6\", Black - E510MA-BR1347WS', estrelas='4,6 de 5 estrelas ', avaliacoes='79  ', valor='1.755\\n,'),\n",
       " notebooks(foto='https://m.media-amazon.com/images/I/51spu3DafYL._AC_UL320_.jpg', descricao='Notebook ASUS E510MA, Celeron Dual Core, EMMC 128GB, 4GB, Win 11 Home, 15,60\", Rose Pink - E510MA-BR1348WS', estrelas='4,6 de 5 estrelas ', avaliacoes='66  ', valor='1.738\\n,'),\n",
       " notebooks(foto='https://m.media-amazon.com/images/I/51WLQOhXRoL._AC_UL320_.jpg', descricao=\"Notebook Samsung Galaxy Book Go, Windows 11 Home, 4GB, 128GB UFS, 14'' Full HD LED, 1.38kg\", estrelas='4,6 de 5 estrelas ', avaliacoes='583  ', valor='1.979\\n,'),\n",
       " notebooks(foto='https://m.media-amazon.com/images/I/51SFlVhq0aL._AC_UL320_.jpg', descricao=\"Galaxy Book2 Intel® Core™ i7-1255U, Windows 11 Home, 8GB, 256GB SSD, 15.6'' Full HD LED, 1.81kg*.\", estrelas='4,3 de 5 estrelas ', avaliacoes='40  ', valor='3.499\\n,'),\n",
       " notebooks(foto='https://m.media-amazon.com/images/I/71zxWLbeYYL._AC_UL320_.jpg', descricao='Notebook Gamer ASUS TUF Gaming F15, Core I7, 16 GB, 512 GB, Nvídia RTX3050, Windows 11 Home, Mecha Gray - FX507ZC4-HN113W', estrelas='2 capacidades2 capacidades', avaliacoes='4,7 de 5 estrelas ', valor='6.966\\n,'),\n",
       " notebooks(foto='https://m.media-amazon.com/images/I/51spu3DafYL._AC_UL320_.jpg', descricao='Notebook ASUS E510MA, Celeron Dual Core, EMMC 128GB, 4GB, Win 11 Home, 15,60\", Rose Pink - E510MA-BR1348WS', estrelas='4,6 de 5 estrelas ', avaliacoes='66  ', valor='1.738\\n,'),\n",
       " notebooks(foto='https://m.media-amazon.com/images/I/71iESqOEpeL._AC_UL320_.jpg', descricao='Notebook ASUS Vivobook Go 15, Intel Core i3 N305, 4GB, 128GB SSD, W11 Home, Tela 15.6\" FHD Cool Silver - E1504GA-NJ440W', estrelas='4,7 de 5 estrelas ', avaliacoes='43  ', valor='2.203\\n,'),\n",
       " notebooks(foto='https://m.media-amazon.com/images/I/51W414vbjzL._AC_UL320_.jpg', descricao='Mesa Portátil Notebook Grafite MDF Dobrável Estudar Trabalhar', estrelas='4,6 de 5 estrelas ', avaliacoes='9  ', valor='99\\n,'),\n",
       " notebooks(foto='https://m.media-amazon.com/images/I/51oKxXNh+XL._AC_UL320_.jpg', descricao='Notebook Ultra, com Windows 11 Home, Tela 15,6 Pol, Processador Celeron N4020C, Memória 4GB 128GB eMMC Cinza - UB261', estrelas='4,1 de 5 estrelas ', avaliacoes='8  ', valor='1.398\\n,'),\n",
       " notebooks(foto='https://m.media-amazon.com/images/I/61E5hcB0lIL._AC_UL320_.jpg', descricao='Notebook Gamer Lenovo LOQ Intel Core i5-12450H 16GB 512GB SSD RTX 2050 15.6\" FHD W11 83EU0001BR', estrelas='4,6 de 5 estrelas ', avaliacoes='46  ', valor='4.568\\n,'),\n",
       " notebooks(foto='https://m.media-amazon.com/images/I/51lGW2nP9qL._AC_UL320_.jpg', descricao='Notebook Samsung Galaxy Book4 i5 8GB 256GB W11H NP750XGJ-KG4BR', estrelas='4,8 de 5 estrelas ', avaliacoes='79  ', valor='3.224\\n,'),\n",
       " notebooks(foto='https://m.media-amazon.com/images/I/719LxJNaSPL._AC_UL320_.jpg', descricao='Notebook HP Intel Core i5-1215U 8GB 256GB SSD 15,6” - Windows 11', estrelas='4,7 de 5 estrelas ', avaliacoes='277  ', valor='2.944\\n,'),\n",
       " notebooks(foto='https://m.media-amazon.com/images/I/61IuifySbUL._AC_UL320_.jpg', descricao='Notebook Lenovo IdeaPad 1i Celeron + Microsoft 365 Personal 4GB 128GB SSD W11 15.6\" 82VX0001BR Prata', estrelas='4,6 de 5 estrelas ', avaliacoes='557  ', valor='1.799\\n,'),\n",
       " notebooks(foto='https://m.media-amazon.com/images/I/51hrZHUPvNL._AC_UL320_.jpg', descricao='Notebook Asus Vivobook 15 X1504za Intel Core i5 1235u 8gb Ram 512gb Ssd Windows 11 Tela 15,6\" Fhd Blue - Nj987w', estrelas='4,8 de 5 estrelas ', avaliacoes='9  ', valor='3.499\\n,'),\n",
       " notebooks(foto='https://m.media-amazon.com/images/I/51-BhhobycL._AC_UL320_.jpg', descricao='Notebook ASUS Vivobook Go 15, Intel Core i3 N305, 8GB, 512GB SSD, W11 Home, Tela 15.6\" FHD, Cool Silver - E1504GA-NJ435W', estrelas='4,8 de 5 estrelas ', avaliacoes='131  ', valor='2.944\\n,'),\n",
       " notebooks(foto='https://m.media-amazon.com/images/I/51jQ9tDsKnL._AC_UL320_.jpg', descricao='Notebook Acer Aspire 5 A515-57-53Z5 Intel Core i5 12ªgen Windows 11 Home 8GB 256GB SSD 15.6” FHD', estrelas='4,6 de 5 estrelas ', avaliacoes='83  ', valor='2.999\\n,'),\n",
       " notebooks(foto='https://m.media-amazon.com/images/I/61KXILvmZ3L._AC_UL320_.jpg', descricao='Notebook Dell Inspiron I15-I120K-M30P 15.6\" Full HD 12ª Geração Intel Core i5 16GB 512GB SSD Windows 11 Preto', estrelas='4,3 de 5 estrelas ', avaliacoes='43  ', valor='3.629\\n,'),\n",
       " notebooks(foto='https://m.media-amazon.com/images/I/51qYgtqNzYL._AC_UL320_.jpg', descricao='Notebook Lenovo Ultrafino IdeaPad 1 i3-1215U 8GB 256GB SSD Windows Home 15.6\" 82VY000SBR Cloud Grey', estrelas='4,6 de 5 estrelas ', avaliacoes='80  ', valor='2.547\\n,'),\n",
       " notebooks(foto='https://m.media-amazon.com/images/I/51Wv-tEUn6L._AC_UL320_.jpg', descricao='Notebook Acer Nitro V15 ANV15-51-58AZ 13ª Geração Intel Core i5-13420H, 8GB RAM, 512GB SSD, NVIDIA RTX 3050, 15.6\" FHD LED IPS 144Hz, Windows 11, Preto, Retroiluminado', estrelas='4,5 de 5 estrelas ', avaliacoes='186  ', valor='4.248\\n,'),\n",
       " notebooks(foto='https://m.media-amazon.com/images/I/61HQNiJlH7L._AC_UL320_.jpg', descricao=\"Notebook Lenovo IdeaPad 1 i3-1215U 4GB 256GB SSD 15.6'' W11\", estrelas='4,7 de 5 estrelas ', avaliacoes='209  ', valor='2.158\\n,'),\n",
       " notebooks(foto='https://m.media-amazon.com/images/I/51Jniq-AKeL._AC_UL320_.jpg', descricao='Notebook VAIO® FE15 Core™ i3 Windows 11 Home 8GB 256GB Full HD - Cinza Escuro', estrelas='4,5 de 5 estrelas ', avaliacoes='5  ', valor='2.449\\n,'),\n",
       " notebooks(foto='https://m.media-amazon.com/images/I/51OEUJyA7-L._AC_UL320_.jpg', descricao='Notebook Ultra Celeron 4GB 120GB SSD N4020 W11H Preto 14.1\" - UB230', estrelas='4,0 de 5 estrelas ', avaliacoes='2  ', valor='1.199\\n,'),\n",
       " notebooks(foto='https://m.media-amazon.com/images/I/51QY3y8PY2L._AC_UL320_.jpg', descricao='Notebook Vaio FE15 15.6 FHD i3-1115G4 8GB SSD 256GB Linux Debian 10 Cinza - VJFE55F11X-B0121H', estrelas='4,2 de 5 estrelas ', avaliacoes='11  ', valor='2.199\\n,'),\n",
       " notebooks(foto='https://m.media-amazon.com/images/I/71iESqOEpeL._AC_UL320_.jpg', descricao='Notebook ASUS Vivobook Go 15, Intel Core i3 N305, 4GB, 128GB SSD, W11 Home, Tela 15.6\" FHD Cool Silver - E1504GA-NJ440W', estrelas='4,7 de 5 estrelas ', avaliacoes='43  ', valor='2.203\\n,'),\n",
       " notebooks(foto='https://m.media-amazon.com/images/I/61tgzJbWSQL._AC_UL320_.jpg', descricao='Notebook Lenovo IdeaPad 1i Intel Core i5-1235U 8GB 512GB SSD Windows 11 Home 14\" 83AF000EBR', estrelas='4,3 de 5 estrelas ', avaliacoes='15  ', valor='3.039\\n,'),\n",
       " notebooks(foto='https://m.media-amazon.com/images/I/51wlchP6e1L._AC_UL320_.jpg', descricao='Notebook Acer Aspire 3 A315-510P-34XC Intel Core i3, 8GB RAM, 256GB SSD, 15.6” LED FULL HD, Windows 11', estrelas='4,6 de 5 estrelas ', avaliacoes='85  ', valor='2.803\\n,'),\n",
       " notebooks(foto='https://m.media-amazon.com/images/I/51qYgtqNzYL._AC_UL320_.jpg', descricao='Notebook Lenovo Ultrafino IdeaPad 1 R3-7320U 8GB 256GB SSD Windows 11 15.6\" 82X5000ABR Cloud Grey', estrelas='5,0 de 5 estrelas ', avaliacoes='1  ', valor='2.499\\n,'),\n",
       " notebooks(foto='https://m.media-amazon.com/images/I/61KXILvmZ3L._AC_UL320_.jpg', descricao='Notebook Dell Inspiron I15-I120K-U10P 15.6\" Full HD 12ª Geração Intel Core i3 8GB 256GB SSD Linux Preto', estrelas='4,8 de 5 estrelas ', avaliacoes='13  ', valor='2.719\\n,'),\n",
       " notebooks(foto='https://m.media-amazon.com/images/I/61KXILvmZ3L._AC_UL320_.jpg', descricao='Notebook Dell Inspiron I15-I120K-M25P 15.6\" Full HD 12ª Geração Intel Core i5 8GB 512GB SSD Windows 11 Preto', estrelas='4,5 de 5 estrelas ', avaliacoes='18  ', valor='3.459\\n,'),\n",
       " notebooks(foto='https://m.media-amazon.com/images/I/613PZt698DL._AC_UL320_.jpg', descricao='Notebook Acer ANV15-51-50KD i5 8 512 RTX 2050 Linux', estrelas='4,1 de 5 estrelas ', avaliacoes='28  ', valor='3.829\\n,'),\n",
       " notebooks(foto='https://m.media-amazon.com/images/I/51TdC6T5YdL._AC_UL320_.jpg', descricao='Chromebook Samsung 11.6 Intel 4GB 64GB XE310XBA-KT4BR', estrelas='4,5 de 5 estrelas ', avaliacoes='92  ', valor='1.341\\n,'),\n",
       " notebooks(foto='https://m.media-amazon.com/images/I/51mtlUsJ3rL._AC_UL320_.jpg', descricao=\"Galaxy Book2 Intel® Core™ i3-1215U, Windows 11 Home, 4GB, 256GB SSD, 15.6'' Full HD LED, 1.81kg*.\", estrelas='4,6 de 5 estrelas ', avaliacoes='196  ', valor='2.599\\n,'),\n",
       " notebooks(foto='https://m.media-amazon.com/images/I/51qYgtqNzYL._AC_UL320_.jpg', descricao='Notebook Lenovo Ultrafino IdeaPad 1 R3-7320U 4GB 256GB SSD Windows Home 15.6\" 82X5000EBR Cloud Grey', estrelas='5,0 de 5 estrelas ', avaliacoes='1  ', valor='2.184\\n,'),\n",
       " notebooks(foto='https://m.media-amazon.com/images/I/61DVg3ECW-L._AC_UL320_.jpg', descricao='HP Laptop portátil (inclui Microsoft 365 de 1 ano), tela HD de 35.6 cm, 16 GB de RAM, 64 GB eMMC, Intel Quad-Core N4120, estudantes e negócios, webcam, HDMI, Wi-Fi, RJ-45, Windows 11 Home, rosa', estrelas='4,3 de 5 estrelas ', avaliacoes='195  ', valor='2.806\\n,'),\n",
       " notebooks(foto='https://m.media-amazon.com/images/I/5179Td+HvEL._AC_UL320_.jpg', descricao='Capa Case com Bolso para Notebook 17 polegadas Luva Preto', estrelas='4,5 de 5 estrelas ', avaliacoes='125  ', valor='52\\n,'),\n",
       " notebooks(foto='https://m.media-amazon.com/images/I/61Hu3pyGtTL._AC_UL320_.jpg', descricao=\"Galaxy Book4 Ultra Intel® Core™ Ultra 7 155H, Windows 11 Home, 32GB, 1TB SSD, 16'' WQXGA+ AMOLED 2x, antirreflexo, touchscreen, 1.86 kg\", estrelas='5,0 de 5 estrelas ', avaliacoes='1  ', valor='11.474\\n,')]"
      ]
     },
     "execution_count": 92,
     "metadata": {},
     "output_type": "execute_result"
    }
   ],
   "source": [
    "dados_excel"
   ]
  },
  {
   "cell_type": "code",
   "execution_count": 95,
   "metadata": {},
   "outputs": [],
   "source": [
    "with open('dados_coletados.csv','w') as filecsv:\n",
    "    header = [fields.name for fields in fields(notebooks)]\n",
    "    file  = csv.DictWriter(filecsv, fieldnames=header)\n",
    "    file.writeheader()\n",
    "\n",
    "    data_formated = [asdict(d) for d in dados_excel]\n",
    "    file.writerows(data_formated)"
   ]
  }
 ],
 "metadata": {
  "kernelspec": {
   "display_name": "venv",
   "language": "python",
   "name": "python3"
  },
  "language_info": {
   "codemirror_mode": {
    "name": "ipython",
    "version": 3
   },
   "file_extension": ".py",
   "mimetype": "text/x-python",
   "name": "python",
   "nbconvert_exporter": "python",
   "pygments_lexer": "ipython3",
   "version": "3.10.9"
  }
 },
 "nbformat": 4,
 "nbformat_minor": 2
}
